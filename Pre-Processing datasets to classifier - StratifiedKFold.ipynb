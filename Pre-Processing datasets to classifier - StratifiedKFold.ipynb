{
 "cells": [
  {
   "cell_type": "code",
   "execution_count": 4,
   "metadata": {},
   "outputs": [],
   "source": [
    "import numpy as np\n",
    "from sklearn.model_selection import StratifiedKFold\n",
    "\n",
    "def skfold_save(dt, dt_labels, trn_filename, tst_filename, trn_lb_filename, tst_lb_filename, k, delim='\\t'):\n",
    "    X = np.loadtxt(dt, delimiter=delim, dtype='uint8')\n",
    "    y = np.loadtxt(dt_labels, delimiter=delim, dtype='uint8')\n",
    "\n",
    "    kfold = StratifiedKFold(n_splits=k, random_state=1, shuffle=True)\n",
    "\n",
    "    for i, idx in enumerate(kfold.split(X, y)):\n",
    "        #print(\"TRAIN:\", idx[0], len(idx[0]), \"TEST:\", idx[1], len(idx[1]))\n",
    "        X_train, X_test = X[idx[0]], X[idx[1]]\n",
    "        y_train, y_test = y[idx[0]], y[idx[1]]\n",
    "        #print('i = ', i)\n",
    "        np.savetxt(trn_filename+str(i), X_train, fmt='%u', delimiter=' ', newline='\\n')\n",
    "        np.savetxt(tst_filename+str(i), X_test, fmt='%u', delimiter=' ', newline='\\n')\n",
    "\n",
    "        np.savetxt(trn_lb_filename+str(i), y_train, fmt='%u', delimiter=' ', newline='\\n')\n",
    "        np.savetxt(tst_lb_filename+str(i), y_test, fmt='%u', delimiter=' ', newline='\\n')"
   ]
  },
  {
   "cell_type": "code",
   "execution_count": null,
   "metadata": {},
   "outputs": [],
   "source": [
    "path            = \"/home/julia/inclose_implementations/datasets/iris_asc\"\n",
    "labels_path     = \"/home/julia/inclose_implementations/datasets/iris_labels\"\n",
    "trn_filename    = '/home/julia/inclose_implementations/datasets/iris_asc_train'\n",
    "tst_filename    = '/home/julia/inclose_implementations/datasets/iris_asc_test'\n",
    "trn_lb_filename = '/home/julia/inclose_implementations/datasets/iris_asc_train_labels'\n",
    "tst_lb_filename = '/home/julia/inclose_implementations/datasets/iris_asc_test_labels'"
   ]
  },
  {
   "cell_type": "code",
   "execution_count": 8,
   "metadata": {},
   "outputs": [],
   "source": [
    "path            = \"/home/julia/inclose_implementations/datasets/breast_asc\"\n",
    "labels_path     = \"/home/julia/inclose_implementations/datasets/breast_labels\"\n",
    "trn_filename    = '/home/julia/inclose_implementations/datasets/breast_asc_train'\n",
    "tst_filename    = '/home/julia/inclose_implementations/datasets/breast_asc_test'\n",
    "trn_lb_filename = '/home/julia/inclose_implementations/datasets/breast_asc_train_labels'\n",
    "tst_lb_filename = '/home/julia/inclose_implementations/datasets/breast_asc_test_labels'\n",
    "\n",
    "skfold_save(path, labels_path, trn_filename, tst_filename, trn_lb_filename, tst_lb_filename, 10, '\\t')"
   ]
  },
  {
   "cell_type": "code",
   "execution_count": 9,
   "metadata": {},
   "outputs": [],
   "source": [
    "path            = \"/home/julia/inclose_implementations/datasets/german_asc\"\n",
    "labels_path     = \"/home/julia/inclose_implementations/datasets/german_labels\"\n",
    "trn_filename    = '/home/julia/inclose_implementations/datasets/german_asc_train'\n",
    "tst_filename    = '/home/julia/inclose_implementations/datasets/german_asc_test'\n",
    "trn_lb_filename = '/home/julia/inclose_implementations/datasets/german_asc_train_labels'\n",
    "tst_lb_filename = '/home/julia/inclose_implementations/datasets/german_asc_test_labels'\n",
    "\n",
    "skfold_save(path, labels_path, trn_filename, tst_filename, trn_lb_filename, tst_lb_filename, 10, delim='\\t')"
   ]
  },
  {
   "cell_type": "code",
   "execution_count": 10,
   "metadata": {},
   "outputs": [],
   "source": [
    "path            = \"/home/julia/inclose_implementations/datasets/covtype_asc\"\n",
    "labels_path     = \"/home/julia/inclose_implementations/datasets/covtype_labels\"\n",
    "trn_filename    = '/home/julia/inclose_implementations/datasets/covtype_asc_train'\n",
    "tst_filename    = '/home/julia/inclose_implementations/datasets/covtype_asc_test'\n",
    "trn_lb_filename = '/home/julia/inclose_implementations/datasets/covtype_asc_train_labels'\n",
    "tst_lb_filename = '/home/julia/inclose_implementations/datasets/covtype_asc_test_labels'\n",
    "\n",
    "skfold_save(path, labels_path, trn_filename, tst_filename, trn_lb_filename, tst_lb_filename, 10, delim='\\t')"
   ]
  },
  {
   "cell_type": "code",
   "execution_count": 12,
   "metadata": {},
   "outputs": [],
   "source": [
    "path            = \"/home/julia/inclose_implementations/datasets/new_adult_discretized_asc\"\n",
    "labels_path     = \"/home/julia/inclose_implementations/datasets/new_adult_labels\"\n",
    "trn_filename    = '/home/julia/inclose_implementations/datasets/new_adult_asc_train'\n",
    "tst_filename    = '/home/julia/inclose_implementations/datasets/new_adult_asc_test'\n",
    "trn_lb_filename = '/home/julia/inclose_implementations/datasets/new_adult_asc_train_labels'\n",
    "tst_lb_filename = '/home/julia/inclose_implementations/datasets/new_adult_asc_test_labels'\n",
    "\n",
    "skfold_save(path, labels_path, trn_filename, tst_filename, trn_lb_filename, tst_lb_filename, 10, delim=' ')"
   ]
  },
  {
   "cell_type": "code",
   "execution_count": 13,
   "metadata": {},
   "outputs": [],
   "source": [
    "path            = \"/home/julia/inclose_implementations/datasets/new_internet_discretized_asc\"\n",
    "labels_path     = \"/home/julia/inclose_implementations/datasets/new_internet_labels\"\n",
    "trn_filename    = '/home/julia/inclose_implementations/datasets/new_internet_asc_train'\n",
    "tst_filename    = '/home/julia/inclose_implementations/datasets/new_internet_asc_test'\n",
    "trn_lb_filename = '/home/julia/inclose_implementations/datasets/new_internet_asc_train_labels'\n",
    "tst_lb_filename = '/home/julia/inclose_implementations/datasets/new_internet_asc_test_labels'\n",
    "\n",
    "skfold_save(path, labels_path, trn_filename, tst_filename, trn_lb_filename, tst_lb_filename, 10, delim=' ')"
   ]
  },
  {
   "cell_type": "code",
   "execution_count": 14,
   "metadata": {},
   "outputs": [],
   "source": [
    "path            = \"/home/julia/inclose_implementations/datasets/new_mushroom_discretized_asc\"\n",
    "labels_path     = \"/home/julia/inclose_implementations/datasets/new_mushroom_labels\"\n",
    "trn_filename    = '/home/julia/inclose_implementations/datasets/new_mushroom_asc_train'\n",
    "tst_filename    = '/home/julia/inclose_implementations/datasets/new_mushroom_asc_test'\n",
    "trn_lb_filename = '/home/julia/inclose_implementations/datasets/new_mushroom_asc_train_labels'\n",
    "tst_lb_filename = '/home/julia/inclose_implementations/datasets/new_mushroom_asc_test_labels'\n",
    "\n",
    "skfold_save(path, labels_path, trn_filename, tst_filename, trn_lb_filename, tst_lb_filename, 10, delim=' ')"
   ]
  }
 ],
 "metadata": {
  "kernelspec": {
   "display_name": "Python 3",
   "language": "python",
   "name": "python3"
  },
  "language_info": {
   "codemirror_mode": {
    "name": "ipython",
    "version": 3
   },
   "file_extension": ".py",
   "mimetype": "text/x-python",
   "name": "python",
   "nbconvert_exporter": "python",
   "pygments_lexer": "ipython3",
   "version": "3.6.9"
  }
 },
 "nbformat": 4,
 "nbformat_minor": 4
}
